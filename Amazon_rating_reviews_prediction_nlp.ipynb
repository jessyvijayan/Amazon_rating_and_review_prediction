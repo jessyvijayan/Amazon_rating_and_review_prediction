{
 "cells": [
  {
   "cell_type": "code",
   "execution_count": 1,
   "id": "b48dd5a9",
   "metadata": {},
   "outputs": [],
   "source": [
    "import pandas as pd \n",
    "import numpy as np \n",
    "import tensorflow as tf \n",
    "\n",
    "import matplotlib.pyplot as plt \n",
    "\n",
    "from sklearn.model_selection import train_test_split\n",
    "\n",
    "from tensorflow.keras.preprocessing.sequence import pad_sequences\n",
    "\n",
    "from tensorflow.keras.preprocessing.text import Tokenizer\n",
    "\n",
    "from tensorflow.keras import Sequential"
   ]
  },
  {
   "cell_type": "code",
   "execution_count": 9,
   "id": "b1dab54c",
   "metadata": {},
   "outputs": [
    {
     "name": "stderr",
     "output_type": "stream",
     "text": [
      "[nltk_data] Downloading package stopwords to\n",
      "[nltk_data]     C:\\Users\\MJO11805\\AppData\\Roaming\\nltk_data...\n",
      "[nltk_data]   Package stopwords is already up-to-date!\n"
     ]
    }
   ],
   "source": [
    "import re\n",
    "import nltk\n",
    "nltk.download('stopwords')\n",
    "from nltk.corpus import stopwords\n",
    "stops = stopwords.words('english')"
   ]
  },
  {
   "cell_type": "code",
   "execution_count": 2,
   "id": "3dca95f1",
   "metadata": {},
   "outputs": [],
   "source": [
    "# Code to unzip the folder\n",
    "\n",
    "import pandas as pd\n",
    "import gzip\n",
    "\n",
    "def parse(path):\n",
    "  g = gzip.open(path, 'rb') # read binary\n",
    "  for l in g:\n",
    "    yield eval(l) # fetch the first file in the entire file\n",
    "\n",
    "def getDF(path):\n",
    "  i = 0\n",
    "  df = {}\n",
    "  for d in parse(path):\n",
    "    df[i] = d\n",
    "    i += 1\n",
    "  return pd.DataFrame.from_dict(df, orient='index')"
   ]
  },
  {
   "cell_type": "markdown",
   "id": "17344ac0",
   "metadata": {},
   "source": [
    "## Unzipping the files and creating dataframe"
   ]
  },
  {
   "cell_type": "code",
   "execution_count": 3,
   "id": "2f64623b",
   "metadata": {},
   "outputs": [],
   "source": [
    "beauty_df = getDF('reviews_Beauty_5.json.gz')\n",
    "grocery_df = getDF('reviews_Grocery_and_Gourmet_Food_5.json.gz')\n",
    "home_df = getDF('reviews_Home_and_Kitchen_5.json.gz')\n",
    "office_df = getDF('reviews_Office_Products_5.json.gz')\n",
    "pet_df = getDF('reviews_Pet_Supplies_5.json.gz')"
   ]
  },
  {
   "cell_type": "code",
   "execution_count": 4,
   "id": "f5fd5295",
   "metadata": {},
   "outputs": [
    {
     "data": {
      "text/html": [
       "<div>\n",
       "<style scoped>\n",
       "    .dataframe tbody tr th:only-of-type {\n",
       "        vertical-align: middle;\n",
       "    }\n",
       "\n",
       "    .dataframe tbody tr th {\n",
       "        vertical-align: top;\n",
       "    }\n",
       "\n",
       "    .dataframe thead th {\n",
       "        text-align: right;\n",
       "    }\n",
       "</style>\n",
       "<table border=\"1\" class=\"dataframe\">\n",
       "  <thead>\n",
       "    <tr style=\"text-align: right;\">\n",
       "      <th></th>\n",
       "      <th>reviewerID</th>\n",
       "      <th>asin</th>\n",
       "      <th>reviewerName</th>\n",
       "      <th>helpful</th>\n",
       "      <th>reviewText</th>\n",
       "      <th>overall</th>\n",
       "      <th>summary</th>\n",
       "      <th>unixReviewTime</th>\n",
       "      <th>reviewTime</th>\n",
       "    </tr>\n",
       "  </thead>\n",
       "  <tbody>\n",
       "    <tr>\n",
       "      <th>0</th>\n",
       "      <td>A1YJEY40YUW4SE</td>\n",
       "      <td>7806397051</td>\n",
       "      <td>Andrea</td>\n",
       "      <td>[3, 4]</td>\n",
       "      <td>Very oily and creamy. Not at all what I expect...</td>\n",
       "      <td>1.0</td>\n",
       "      <td>Don't waste your money</td>\n",
       "      <td>1391040000</td>\n",
       "      <td>01 30, 2014</td>\n",
       "    </tr>\n",
       "    <tr>\n",
       "      <th>1</th>\n",
       "      <td>A60XNB876KYML</td>\n",
       "      <td>7806397051</td>\n",
       "      <td>Jessica H.</td>\n",
       "      <td>[1, 1]</td>\n",
       "      <td>This palette was a decent price and I was look...</td>\n",
       "      <td>3.0</td>\n",
       "      <td>OK Palette!</td>\n",
       "      <td>1397779200</td>\n",
       "      <td>04 18, 2014</td>\n",
       "    </tr>\n",
       "    <tr>\n",
       "      <th>2</th>\n",
       "      <td>A3G6XNM240RMWA</td>\n",
       "      <td>7806397051</td>\n",
       "      <td>Karen</td>\n",
       "      <td>[0, 1]</td>\n",
       "      <td>The texture of this concealer pallet is fantas...</td>\n",
       "      <td>4.0</td>\n",
       "      <td>great quality</td>\n",
       "      <td>1378425600</td>\n",
       "      <td>09 6, 2013</td>\n",
       "    </tr>\n",
       "    <tr>\n",
       "      <th>3</th>\n",
       "      <td>A1PQFP6SAJ6D80</td>\n",
       "      <td>7806397051</td>\n",
       "      <td>Norah</td>\n",
       "      <td>[2, 2]</td>\n",
       "      <td>I really can't tell what exactly this thing is...</td>\n",
       "      <td>2.0</td>\n",
       "      <td>Do not work on my face</td>\n",
       "      <td>1386460800</td>\n",
       "      <td>12 8, 2013</td>\n",
       "    </tr>\n",
       "    <tr>\n",
       "      <th>4</th>\n",
       "      <td>A38FVHZTNQ271F</td>\n",
       "      <td>7806397051</td>\n",
       "      <td>Nova Amor</td>\n",
       "      <td>[0, 0]</td>\n",
       "      <td>It was a little smaller than I expected, but t...</td>\n",
       "      <td>3.0</td>\n",
       "      <td>It's okay.</td>\n",
       "      <td>1382140800</td>\n",
       "      <td>10 19, 2013</td>\n",
       "    </tr>\n",
       "  </tbody>\n",
       "</table>\n",
       "</div>"
      ],
      "text/plain": [
       "       reviewerID        asin reviewerName helpful  \\\n",
       "0  A1YJEY40YUW4SE  7806397051       Andrea  [3, 4]   \n",
       "1   A60XNB876KYML  7806397051   Jessica H.  [1, 1]   \n",
       "2  A3G6XNM240RMWA  7806397051        Karen  [0, 1]   \n",
       "3  A1PQFP6SAJ6D80  7806397051        Norah  [2, 2]   \n",
       "4  A38FVHZTNQ271F  7806397051    Nova Amor  [0, 0]   \n",
       "\n",
       "                                          reviewText  overall  \\\n",
       "0  Very oily and creamy. Not at all what I expect...      1.0   \n",
       "1  This palette was a decent price and I was look...      3.0   \n",
       "2  The texture of this concealer pallet is fantas...      4.0   \n",
       "3  I really can't tell what exactly this thing is...      2.0   \n",
       "4  It was a little smaller than I expected, but t...      3.0   \n",
       "\n",
       "                  summary  unixReviewTime   reviewTime  \n",
       "0  Don't waste your money      1391040000  01 30, 2014  \n",
       "1             OK Palette!      1397779200  04 18, 2014  \n",
       "2           great quality      1378425600   09 6, 2013  \n",
       "3  Do not work on my face      1386460800   12 8, 2013  \n",
       "4              It's okay.      1382140800  10 19, 2013  "
      ]
     },
     "execution_count": 4,
     "metadata": {},
     "output_type": "execute_result"
    }
   ],
   "source": [
    "beauty_df.head()"
   ]
  },
  {
   "cell_type": "markdown",
   "id": "633344b7",
   "metadata": {},
   "source": [
    "# To differentiate which group of reviews it goes into"
   ]
  },
  {
   "cell_type": "code",
   "execution_count": 5,
   "id": "85b1c5fb",
   "metadata": {},
   "outputs": [],
   "source": [
    "beauty_df['text'] =beauty_df['reviewText'] + beauty_df['summary']\n",
    "beauty_df['category'] = 0 # beauty =0\n",
    "beauty_df = beauty_df[['text','category']]\n",
    "beauty_df = beauty_df.head(53258)\n",
    "\n",
    "grocery_df['text'] =grocery_df['reviewText'] + grocery_df['summary']\n",
    "grocery_df['category'] = 1 # grocery = 1\n",
    "grocery_df = grocery_df[['text','category']]\n",
    "grocery_df = grocery_df.head(53258)\n",
    "\n",
    "home_df['text'] =home_df['reviewText'] + home_df['summary']\n",
    "home_df['category'] = 2 # home = 2\n",
    "home_df = home_df[['text','category']]\n",
    "home_df = home_df.head(53258)\n",
    "\n",
    "\n",
    "office_df['text'] =office_df['reviewText'] + office_df['summary']\n",
    "office_df['category'] = 3 # office = 3\n",
    "office_df = office_df[['text','category']]\n",
    "office_df = office_df.head(53258)\n",
    "\n",
    "\n",
    "pet_df['text'] =pet_df['reviewText'] + pet_df['summary']\n",
    "pet_df['category'] = 4 #pet = 4\n",
    "pet_df = pet_df[['text','category']]\n",
    "pet_df = pet_df.head(53258)\n"
   ]
  },
  {
   "cell_type": "markdown",
   "id": "b620ae62",
   "metadata": {},
   "source": [
    "## Merging all dataframes"
   ]
  },
  {
   "cell_type": "code",
   "execution_count": 6,
   "id": "76a395da",
   "metadata": {},
   "outputs": [],
   "source": [
    "df = pd.concat([beauty_df,grocery_df,home_df,office_df,pet_df])"
   ]
  },
  {
   "cell_type": "code",
   "execution_count": 7,
   "id": "f686da07",
   "metadata": {},
   "outputs": [
    {
     "data": {
      "text/plain": [
       "(266290, 2)"
      ]
     },
     "execution_count": 7,
     "metadata": {},
     "output_type": "execute_result"
    }
   ],
   "source": [
    "df.shape"
   ]
  },
  {
   "cell_type": "code",
   "execution_count": 8,
   "id": "8bbeca69",
   "metadata": {},
   "outputs": [
    {
     "data": {
      "text/plain": [
       "0    53258\n",
       "1    53258\n",
       "2    53258\n",
       "3    53258\n",
       "4    53258\n",
       "Name: category, dtype: int64"
      ]
     },
     "execution_count": 8,
     "metadata": {},
     "output_type": "execute_result"
    }
   ],
   "source": [
    "df['category'].value_counts()"
   ]
  },
  {
   "cell_type": "markdown",
   "id": "d5705b30",
   "metadata": {},
   "source": [
    "## Data cleaning"
   ]
  },
  {
   "cell_type": "code",
   "execution_count": 10,
   "id": "8d1fe017",
   "metadata": {},
   "outputs": [],
   "source": [
    "def clean_text(text):\n",
    "    text= re.sub('[^A-Za-z]',' ',text)\n",
    "    text = re.sub(r'http\\S+',' ',text,flags= re.MULTILINE)\n",
    "    text = re.sub('\\.+',' ',text)\n",
    "    text =text.lower()\n",
    "    words = text.split()\n",
    "    imp_words = [w for w in words if w not in stops]\n",
    "\n",
    "    return(' '.join(imp_words))"
   ]
  },
  {
   "cell_type": "code",
   "execution_count": 11,
   "id": "5de7c937",
   "metadata": {},
   "outputs": [],
   "source": [
    "df['clean_text'] = df['text'].apply(lambda x:clean_text(x)) "
   ]
  },
  {
   "cell_type": "code",
   "execution_count": 12,
   "id": "822a61d0",
   "metadata": {},
   "outputs": [
    {
     "data": {
      "text/html": [
       "<div>\n",
       "<style scoped>\n",
       "    .dataframe tbody tr th:only-of-type {\n",
       "        vertical-align: middle;\n",
       "    }\n",
       "\n",
       "    .dataframe tbody tr th {\n",
       "        vertical-align: top;\n",
       "    }\n",
       "\n",
       "    .dataframe thead th {\n",
       "        text-align: right;\n",
       "    }\n",
       "</style>\n",
       "<table border=\"1\" class=\"dataframe\">\n",
       "  <thead>\n",
       "    <tr style=\"text-align: right;\">\n",
       "      <th></th>\n",
       "      <th>text</th>\n",
       "      <th>category</th>\n",
       "      <th>clean_text</th>\n",
       "    </tr>\n",
       "  </thead>\n",
       "  <tbody>\n",
       "    <tr>\n",
       "      <th>0</th>\n",
       "      <td>Very oily and creamy. Not at all what I expect...</td>\n",
       "      <td>0</td>\n",
       "      <td>oily creamy expected ordered try highlight con...</td>\n",
       "    </tr>\n",
       "    <tr>\n",
       "      <th>1</th>\n",
       "      <td>This palette was a decent price and I was look...</td>\n",
       "      <td>0</td>\n",
       "      <td>palette decent price looking different shades ...</td>\n",
       "    </tr>\n",
       "    <tr>\n",
       "      <th>2</th>\n",
       "      <td>The texture of this concealer pallet is fantas...</td>\n",
       "      <td>0</td>\n",
       "      <td>texture concealer pallet fantastic great cover...</td>\n",
       "    </tr>\n",
       "    <tr>\n",
       "      <th>3</th>\n",
       "      <td>I really can't tell what exactly this thing is...</td>\n",
       "      <td>0</td>\n",
       "      <td>really tell exactly thing powder kind oil ish ...</td>\n",
       "    </tr>\n",
       "    <tr>\n",
       "      <th>4</th>\n",
       "      <td>It was a little smaller than I expected, but t...</td>\n",
       "      <td>0</td>\n",
       "      <td>little smaller expected okay lasted long time ...</td>\n",
       "    </tr>\n",
       "  </tbody>\n",
       "</table>\n",
       "</div>"
      ],
      "text/plain": [
       "                                                text  category  \\\n",
       "0  Very oily and creamy. Not at all what I expect...         0   \n",
       "1  This palette was a decent price and I was look...         0   \n",
       "2  The texture of this concealer pallet is fantas...         0   \n",
       "3  I really can't tell what exactly this thing is...         0   \n",
       "4  It was a little smaller than I expected, but t...         0   \n",
       "\n",
       "                                          clean_text  \n",
       "0  oily creamy expected ordered try highlight con...  \n",
       "1  palette decent price looking different shades ...  \n",
       "2  texture concealer pallet fantastic great cover...  \n",
       "3  really tell exactly thing powder kind oil ish ...  \n",
       "4  little smaller expected okay lasted long time ...  "
      ]
     },
     "execution_count": 12,
     "metadata": {},
     "output_type": "execute_result"
    }
   ],
   "source": [
    "df.head()"
   ]
  },
  {
   "cell_type": "code",
   "execution_count": 13,
   "id": "d3bdc633",
   "metadata": {},
   "outputs": [],
   "source": [
    "x = df['clean_text']\n",
    "y = df['category']"
   ]
  },
  {
   "cell_type": "code",
   "execution_count": 14,
   "id": "87f2985d",
   "metadata": {},
   "outputs": [],
   "source": [
    "x_train,x_test,y_train,y_test= train_test_split(x,y,test_size=0.2,random_state=10,shuffle=True)"
   ]
  },
  {
   "cell_type": "markdown",
   "id": "caba5545",
   "metadata": {},
   "source": [
    "## Tokenizer"
   ]
  },
  {
   "cell_type": "code",
   "execution_count": 15,
   "id": "00a2845c",
   "metadata": {},
   "outputs": [],
   "source": [
    "tok = Tokenizer(oov_token = ' <UNK>')"
   ]
  },
  {
   "cell_type": "code",
   "execution_count": 19,
   "id": "932cc51d",
   "metadata": {},
   "outputs": [],
   "source": [
    "tok.fit_on_texts(x_train)"
   ]
  },
  {
   "cell_type": "code",
   "execution_count": 38,
   "id": "a095e9ab",
   "metadata": {},
   "outputs": [
    {
     "data": {
      "text/plain": [
       "111946"
      ]
     },
     "execution_count": 38,
     "metadata": {},
     "output_type": "execute_result"
    }
   ],
   "source": [
    "len(tok.word_index)"
   ]
  },
  {
   "cell_type": "code",
   "execution_count": 40,
   "id": "deb14c6d",
   "metadata": {},
   "outputs": [],
   "source": [
    "vocab_size = len(tok.word_index) + 1"
   ]
  },
  {
   "cell_type": "code",
   "execution_count": 20,
   "id": "d11ebfd5",
   "metadata": {},
   "outputs": [],
   "source": [
    "train_sequences = tok.texts_to_sequences(x_train)\n",
    "test_sequences = tok.texts_to_sequences(x_test)"
   ]
  },
  {
   "cell_type": "code",
   "execution_count": 27,
   "id": "5856c2d1",
   "metadata": {},
   "outputs": [
    {
     "data": {
      "text/plain": [
       "3097"
      ]
     },
     "execution_count": 27,
     "metadata": {},
     "output_type": "execute_result"
    }
   ],
   "source": [
    "np.max(df['clean_text'].apply(lambda x:len(x.split())))"
   ]
  },
  {
   "cell_type": "code",
   "execution_count": 30,
   "id": "ad81b054",
   "metadata": {},
   "outputs": [
    {
     "data": {
      "text/plain": [
       "(array([62893., 85851., 44855., 25907., 15386.,  9560.,  6303.,  4064.,\n",
       "         2793.,  2139.]),\n",
       " array([  0.,  20.,  40.,  60.,  80., 100., 120., 140., 160., 180., 200.]),\n",
       " <BarContainer object of 10 artists>)"
      ]
     },
     "execution_count": 30,
     "metadata": {},
     "output_type": "execute_result"
    },
    {
     "data": {
      "image/png": "[encoded data removed]",
      "text/plain": [
       "<Figure size 432x288 with 1 Axes>"
      ]
     },
     "metadata": {
      "needs_background": "light"
     },
     "output_type": "display_data"
    }
   ],
   "source": [
    "plt.hist(df['clean_text'].apply(lambda x:len(x.split())),range=(0,200))"
   ]
  },
  {
   "cell_type": "code",
   "execution_count": 34,
   "id": "264730ac",
   "metadata": {},
   "outputs": [],
   "source": [
    "max_words = 150\n",
    "embedding_dimension = 300\n",
    "pad = 'post'\n",
    "truncat = 'post'"
   ]
  },
  {
   "cell_type": "code",
   "execution_count": 37,
   "id": "ff8a61b3",
   "metadata": {},
   "outputs": [],
   "source": [
    "train_padded = pad_sequences(train_sequences,maxlen=max_words,padding=pad,truncating=truncat)\n",
    "test_padded = pad_sequences(test_sequences,maxlen=max_words,padding=pad,truncating=truncat)"
   ]
  },
  {
   "cell_type": "markdown",
   "id": "956f3a41",
   "metadata": {},
   "source": [
    "## Model Building"
   ]
  },
  {
   "cell_type": "code",
   "execution_count": 42,
   "id": "41921d2b",
   "metadata": {},
   "outputs": [],
   "source": [
    "model = Sequential([\n",
    "    tf.keras.layers.Embedding(vocab_size,embedding_dimension),\n",
    "    tf.keras.layers.LSTM(256),\n",
    "    tf.keras.layers.Dense(40,activation='ReLU'),\n",
    "    tf.keras.layers.Dense(5,activation='softmax')\n",
    "    ])"
   ]
  },
  {
   "cell_type": "code",
   "execution_count": 44,
   "id": "fc9b1797",
   "metadata": {},
   "outputs": [
    {
     "name": "stdout",
     "output_type": "stream",
     "text": [
      "Model: \"sequential\"\n",
      "_________________________________________________________________\n",
      " Layer (type)                Output Shape              Param #   \n",
      "=================================================================\n",
      " embedding (Embedding)       (None, None, 300)         33584100  \n",
      "                                                                 \n",
      " lstm (LSTM)                 (None, 256)               570368    \n",
      "                                                                 \n",
      " dense (Dense)               (None, 40)                10280     \n",
      "                                                                 \n",
      " dense_1 (Dense)             (None, 5)                 205       \n",
      "                                                                 \n",
      "=================================================================\n",
      "Total params: 34,164,953\n",
      "Trainable params: 34,164,953\n",
      "Non-trainable params: 0\n",
      "_________________________________________________________________\n"
     ]
    }
   ],
   "source": [
    "model.summary()"
   ]
  },
  {
   "cell_type": "code",
   "execution_count": 45,
   "id": "d6d34a07",
   "metadata": {},
   "outputs": [],
   "source": [
    "model.compile(optimizer='adam',loss='sparse_categorical_crossentropy',metrics=['accuracy'])"
   ]
  },
  {
   "cell_type": "code",
   "execution_count": 49,
   "id": "2de9938c",
   "metadata": {},
   "outputs": [
    {
     "name": "stdout",
     "output_type": "stream",
     "text": [
      "Epoch 1/5\n",
      "427/427 [==============================] - 1496s 4s/step - loss: 0.0704 - accuracy: 0.9797 - val_loss: 0.1609 - val_accuracy: 0.9520\n",
      "Epoch 2/5\n",
      "427/427 [==============================] - 1464s 3s/step - loss: 0.0513 - accuracy: 0.9855 - val_loss: 0.1720 - val_accuracy: 0.9505\n",
      "Epoch 3/5\n",
      "427/427 [==============================] - 1867s 4s/step - loss: 0.0395 - accuracy: 0.9890 - val_loss: 0.1855 - val_accuracy: 0.9513\n",
      "Epoch 4/5\n",
      "427/427 [==============================] - 25479s 60s/step - loss: 0.0312 - accuracy: 0.9913 - val_loss: 0.2103 - val_accuracy: 0.9476\n",
      "Epoch 5/5\n",
      "427/427 [==============================] - 2189s 5s/step - loss: 0.0262 - accuracy: 0.9928 - val_loss: 0.2298 - val_accuracy: 0.9484\n"
     ]
    }
   ],
   "source": [
    "history = model.fit(train_padded,y_train,epochs=5,batch_size=500,validation_data=[test_padded,y_test])"
   ]
  },
  {
   "cell_type": "code",
   "execution_count": 50,
   "id": "2a666607",
   "metadata": {},
   "outputs": [
    {
     "data": {
      "text/plain": [
       "<matplotlib.legend.Legend at 0x12f3c0080a0>"
      ]
     },
     "execution_count": 50,
     "metadata": {},
     "output_type": "execute_result"
    },
    {
     "data": {
      "image/png": "[encoded data removed]",
      "text/plain": [
       "<Figure size 432x288 with 1 Axes>"
      ]
     },
     "metadata": {
      "needs_background": "light"
     },
     "output_type": "display_data"
    }
   ],
   "source": [
    "plt.plot(history.history['accuracy'])\n",
    "plt.plot(history.history['val_accuracy'])\n",
    "plt.xlabel('epoch')\n",
    "plt.ylabel('accuracy')\n",
    "plt.title('accuracy plot')\n",
    "plt.legend(['training','testing'])"
   ]
  },
  {
   "cell_type": "code",
   "execution_count": 51,
   "id": "63ed8951",
   "metadata": {},
   "outputs": [
    {
     "data": {
      "text/plain": [
       "<matplotlib.legend.Legend at 0x12f47518d90>"
      ]
     },
     "execution_count": 51,
     "metadata": {},
     "output_type": "execute_result"
    },
    {
     "data": {
      "image/png": "[encoded data removed]",
      "text/plain": [
       "<Figure size 432x288 with 1 Axes>"
      ]
     },
     "metadata": {
      "needs_background": "light"
     },
     "output_type": "display_data"
    }
   ],
   "source": [
    "plt.plot(history.history['loss'])\n",
    "plt.plot(history.history['val_loss'])\n",
    "plt.xlabel('epoch')\n",
    "plt.ylabel('loss')\n",
    "plt.title('accuracy plot')\n",
    "plt.legend(['training','testing'])"
   ]
  },
  {
   "cell_type": "markdown",
   "id": "a18cfcbf",
   "metadata": {},
   "source": [
    "# To predict the rating based on review"
   ]
  },
  {
   "cell_type": "markdown",
   "id": "6b200d7d",
   "metadata": {},
   "source": [
    "### Unzipping the files"
   ]
  },
  {
   "cell_type": "code",
   "execution_count": 111,
   "id": "b9043ea1",
   "metadata": {},
   "outputs": [],
   "source": [
    "beauty_df = getDF('reviews_Beauty_5.json.gz')\n",
    "grocery_df = getDF('reviews_Grocery_and_Gourmet_Food_5.json.gz')\n",
    "home_df = getDF('reviews_Home_and_Kitchen_5.json.gz')\n",
    "office_df = getDF('reviews_Office_Products_5.json.gz')\n",
    "pet_df = getDF('reviews_Pet_Supplies_5.json.gz')"
   ]
  },
  {
   "cell_type": "code",
   "execution_count": 112,
   "id": "66b32cd9",
   "metadata": {},
   "outputs": [],
   "source": [
    "beauty_df['text'] =beauty_df['reviewText'] + beauty_df['summary']\n",
    "beauty_df['category'] = 0 # beauty =0\n",
    "beauty_df = beauty_df[['text','category','overall']]\n",
    "#beauty_df = beauty_df.head(53258)\n",
    "\n",
    "grocery_df['text'] =grocery_df['reviewText'] + grocery_df['summary']\n",
    "grocery_df['category'] = 1 # grocery = 1\n",
    "grocery_df = grocery_df[['text','category','overall']]\n",
    "#grocery_df = grocery_df.head(53258)\n",
    "\n",
    "home_df['text'] =home_df['reviewText'] + home_df['summary']\n",
    "home_df['category'] = 2 # home = 2\n",
    "home_df = home_df[['text','category','overall']]\n",
    "#home_df = home_df.head(53258)\n",
    "\n",
    "\n",
    "office_df['text'] =office_df['reviewText'] + office_df['summary']\n",
    "office_df['category'] = 3 # office = 3\n",
    "office_df = office_df[['text','category','overall']]\n",
    "#office_df = office_df.head(53258)\n",
    "\n",
    "\n",
    "pet_df['text'] =pet_df['reviewText'] + pet_df['summary']\n",
    "pet_df['category'] = 4 #pet = 4\n",
    "pet_df = pet_df[['text','category','overall']]\n",
    "#pet_df = pet_df.head(53258)\n"
   ]
  },
  {
   "cell_type": "markdown",
   "id": "d0bd5900",
   "metadata": {},
   "source": [
    "### Merging all dataframes"
   ]
  },
  {
   "cell_type": "code",
   "execution_count": 113,
   "id": "05881a52",
   "metadata": {},
   "outputs": [],
   "source": [
    "df = pd.concat([beauty_df,grocery_df,home_df,office_df,pet_df])"
   ]
  },
  {
   "cell_type": "code",
   "execution_count": 114,
   "id": "d404b11d",
   "metadata": {},
   "outputs": [
    {
     "data": {
      "text/plain": [
       "(1112532, 3)"
      ]
     },
     "execution_count": 114,
     "metadata": {},
     "output_type": "execute_result"
    }
   ],
   "source": [
    "df.shape"
   ]
  },
  {
   "cell_type": "code",
   "execution_count": 115,
   "id": "a316c6b7",
   "metadata": {},
   "outputs": [
    {
     "data": {
      "text/plain": [
       "2    551682\n",
       "0    198502\n",
       "4    157836\n",
       "1    151254\n",
       "3     53258\n",
       "Name: category, dtype: int64"
      ]
     },
     "execution_count": 115,
     "metadata": {},
     "output_type": "execute_result"
    }
   ],
   "source": [
    "df['category'].value_counts()"
   ]
  },
  {
   "cell_type": "code",
   "execution_count": 116,
   "id": "7cfa2228",
   "metadata": {},
   "outputs": [],
   "source": [
    "df['overall'] = df['overall'] - 1"
   ]
  },
  {
   "cell_type": "code",
   "execution_count": 117,
   "id": "5b8ffa07",
   "metadata": {
    "scrolled": true
   },
   "outputs": [
    {
     "data": {
      "text/plain": [
       "4.0    678253\n",
       "3.0    220857\n",
       "2.0    105814\n",
       "1.0     54319\n",
       "0.0     53289\n",
       "Name: overall, dtype: int64"
      ]
     },
     "execution_count": 117,
     "metadata": {},
     "output_type": "execute_result"
    }
   ],
   "source": [
    "df['overall'].value_counts()"
   ]
  },
  {
   "cell_type": "markdown",
   "id": "5503f1f7",
   "metadata": {},
   "source": [
    "### Data cleaning"
   ]
  },
  {
   "cell_type": "code",
   "execution_count": 118,
   "id": "41dad4e1",
   "metadata": {},
   "outputs": [],
   "source": [
    "def clean_text(text):\n",
    "    text= re.sub('[^A-Za-z]',' ',text)\n",
    "    text = re.sub(r'http\\S+',' ',text,flags= re.MULTILINE)\n",
    "    text = re.sub('\\.+',' ',text)\n",
    "    text =text.lower()\n",
    "    words = text.split()\n",
    "    imp_words = [w for w in words if w not in stops]\n",
    "\n",
    "    return(' '.join(imp_words))"
   ]
  },
  {
   "cell_type": "code",
   "execution_count": 119,
   "id": "4d69ca59",
   "metadata": {},
   "outputs": [],
   "source": [
    "df['clean_text'] = df['text'].apply(lambda x:clean_text(x)) "
   ]
  },
  {
   "cell_type": "code",
   "execution_count": 120,
   "id": "b5ae9272",
   "metadata": {},
   "outputs": [
    {
     "data": {
      "text/html": [
       "<div>\n",
       "<style scoped>\n",
       "    .dataframe tbody tr th:only-of-type {\n",
       "        vertical-align: middle;\n",
       "    }\n",
       "\n",
       "    .dataframe tbody tr th {\n",
       "        vertical-align: top;\n",
       "    }\n",
       "\n",
       "    .dataframe thead th {\n",
       "        text-align: right;\n",
       "    }\n",
       "</style>\n",
       "<table border=\"1\" class=\"dataframe\">\n",
       "  <thead>\n",
       "    <tr style=\"text-align: right;\">\n",
       "      <th></th>\n",
       "      <th>text</th>\n",
       "      <th>category</th>\n",
       "      <th>overall</th>\n",
       "      <th>clean_text</th>\n",
       "    </tr>\n",
       "  </thead>\n",
       "  <tbody>\n",
       "    <tr>\n",
       "      <th>0</th>\n",
       "      <td>Very oily and creamy. Not at all what I expect...</td>\n",
       "      <td>0</td>\n",
       "      <td>0.0</td>\n",
       "      <td>oily creamy expected ordered try highlight con...</td>\n",
       "    </tr>\n",
       "    <tr>\n",
       "      <th>1</th>\n",
       "      <td>This palette was a decent price and I was look...</td>\n",
       "      <td>0</td>\n",
       "      <td>2.0</td>\n",
       "      <td>palette decent price looking different shades ...</td>\n",
       "    </tr>\n",
       "    <tr>\n",
       "      <th>2</th>\n",
       "      <td>The texture of this concealer pallet is fantas...</td>\n",
       "      <td>0</td>\n",
       "      <td>3.0</td>\n",
       "      <td>texture concealer pallet fantastic great cover...</td>\n",
       "    </tr>\n",
       "    <tr>\n",
       "      <th>3</th>\n",
       "      <td>I really can't tell what exactly this thing is...</td>\n",
       "      <td>0</td>\n",
       "      <td>1.0</td>\n",
       "      <td>really tell exactly thing powder kind oil ish ...</td>\n",
       "    </tr>\n",
       "    <tr>\n",
       "      <th>4</th>\n",
       "      <td>It was a little smaller than I expected, but t...</td>\n",
       "      <td>0</td>\n",
       "      <td>2.0</td>\n",
       "      <td>little smaller expected okay lasted long time ...</td>\n",
       "    </tr>\n",
       "  </tbody>\n",
       "</table>\n",
       "</div>"
      ],
      "text/plain": [
       "                                                text  category  overall  \\\n",
       "0  Very oily and creamy. Not at all what I expect...         0      0.0   \n",
       "1  This palette was a decent price and I was look...         0      2.0   \n",
       "2  The texture of this concealer pallet is fantas...         0      3.0   \n",
       "3  I really can't tell what exactly this thing is...         0      1.0   \n",
       "4  It was a little smaller than I expected, but t...         0      2.0   \n",
       "\n",
       "                                          clean_text  \n",
       "0  oily creamy expected ordered try highlight con...  \n",
       "1  palette decent price looking different shades ...  \n",
       "2  texture concealer pallet fantastic great cover...  \n",
       "3  really tell exactly thing powder kind oil ish ...  \n",
       "4  little smaller expected okay lasted long time ...  "
      ]
     },
     "execution_count": 120,
     "metadata": {},
     "output_type": "execute_result"
    }
   ],
   "source": [
    "df.head()"
   ]
  },
  {
   "cell_type": "code",
   "execution_count": 121,
   "id": "2ebb131c",
   "metadata": {},
   "outputs": [],
   "source": [
    "x1 = df[['clean_text','category']]\n",
    "y1 = df['overall']"
   ]
  },
  {
   "cell_type": "code",
   "execution_count": 122,
   "id": "60cdae0d",
   "metadata": {},
   "outputs": [],
   "source": [
    "x1_train,x1_test,y1_train,y1_test= train_test_split(x1,y1,test_size=0.2,random_state=10,shuffle=True)"
   ]
  },
  {
   "cell_type": "markdown",
   "id": "80583177",
   "metadata": {},
   "source": [
    "### Tokenizer"
   ]
  },
  {
   "cell_type": "code",
   "execution_count": 123,
   "id": "8dc78894",
   "metadata": {},
   "outputs": [],
   "source": [
    "tok = Tokenizer(oov_token = ' <UNK>')"
   ]
  },
  {
   "cell_type": "code",
   "execution_count": 124,
   "id": "bc1a271b",
   "metadata": {},
   "outputs": [],
   "source": [
    "tok.fit_on_texts(x1_train['clean_text'])"
   ]
  },
  {
   "cell_type": "code",
   "execution_count": 125,
   "id": "d41d02a6",
   "metadata": {},
   "outputs": [
    {
     "data": {
      "text/plain": [
       "252407"
      ]
     },
     "execution_count": 125,
     "metadata": {},
     "output_type": "execute_result"
    }
   ],
   "source": [
    "len(tok.word_index)"
   ]
  },
  {
   "cell_type": "code",
   "execution_count": 126,
   "id": "7ba5e757",
   "metadata": {},
   "outputs": [],
   "source": [
    "vocab_size = len(tok.word_index) + 1"
   ]
  },
  {
   "cell_type": "code",
   "execution_count": 127,
   "id": "7c62b326",
   "metadata": {},
   "outputs": [],
   "source": [
    "train_sequences = tok.texts_to_sequences(x1_train['clean_text'])\n",
    "test_sequences = tok.texts_to_sequences(x1_test['clean_text'])"
   ]
  },
  {
   "cell_type": "code",
   "execution_count": 128,
   "id": "5da5d6d9",
   "metadata": {},
   "outputs": [
    {
     "data": {
      "text/plain": [
       "3097"
      ]
     },
     "execution_count": 128,
     "metadata": {},
     "output_type": "execute_result"
    }
   ],
   "source": [
    "np.max(df['clean_text'].apply(lambda x:len(x.split())))"
   ]
  },
  {
   "cell_type": "code",
   "execution_count": 129,
   "id": "13f8b939",
   "metadata": {},
   "outputs": [
    {
     "data": {
      "text/plain": [
       "(array([285265., 365716., 179502., 100331.,  59237.,  37084.,  24220.,\n",
       "         16153.,  11199.,   8353.]),\n",
       " array([  0.,  20.,  40.,  60.,  80., 100., 120., 140., 160., 180., 200.]),\n",
       " <BarContainer object of 10 artists>)"
      ]
     },
     "execution_count": 129,
     "metadata": {},
     "output_type": "execute_result"
    },
    {
     "data": {
      "image/png": "[encoded data removed]",
      "text/plain": [
       "<Figure size 432x288 with 1 Axes>"
      ]
     },
     "metadata": {
      "needs_background": "light"
     },
     "output_type": "display_data"
    }
   ],
   "source": [
    "plt.hist(df['clean_text'].apply(lambda x:len(x.split())),range=(0,200))"
   ]
  },
  {
   "cell_type": "code",
   "execution_count": 130,
   "id": "a286c581",
   "metadata": {},
   "outputs": [],
   "source": [
    "max_words = 150\n",
    "embedding_dimension = 300\n",
    "pad = 'post'\n",
    "truncat = 'post'"
   ]
  },
  {
   "cell_type": "code",
   "execution_count": 131,
   "id": "7be26804",
   "metadata": {},
   "outputs": [],
   "source": [
    "train_padded = pad_sequences(train_sequences,maxlen=max_words,padding=pad,truncating=truncat)\n",
    "test_padded = pad_sequences(test_sequences,maxlen=max_words,padding=pad,truncating=truncat)"
   ]
  },
  {
   "cell_type": "markdown",
   "id": "5ed07db9",
   "metadata": {},
   "source": [
    "## Model Building"
   ]
  },
  {
   "cell_type": "code",
   "execution_count": 132,
   "id": "06c99872",
   "metadata": {},
   "outputs": [],
   "source": [
    "model = Sequential([\n",
    "    tf.keras.layers.Embedding(vocab_size,embedding_dimension),\n",
    "    tf.keras.layers.LSTM(256),\n",
    "    tf.keras.layers.Dense(40,activation='ReLU'),\n",
    "    tf.keras.layers.Dense(5,activation='softmax')\n",
    "    ])"
   ]
  },
  {
   "cell_type": "code",
   "execution_count": 133,
   "id": "05815998",
   "metadata": {},
   "outputs": [
    {
     "name": "stdout",
     "output_type": "stream",
     "text": [
      "Model: \"sequential_5\"\n",
      "_________________________________________________________________\n",
      " Layer (type)                Output Shape              Param #   \n",
      "=================================================================\n",
      " embedding_5 (Embedding)     (None, None, 300)         75722400  \n",
      "                                                                 \n",
      " lstm_5 (LSTM)               (None, 256)               570368    \n",
      "                                                                 \n",
      " dense_10 (Dense)            (None, 40)                10280     \n",
      "                                                                 \n",
      " dense_11 (Dense)            (None, 5)                 205       \n",
      "                                                                 \n",
      "=================================================================\n",
      "Total params: 76,303,253\n",
      "Trainable params: 76,303,253\n",
      "Non-trainable params: 0\n",
      "_________________________________________________________________\n"
     ]
    }
   ],
   "source": [
    "model.summary()"
   ]
  },
  {
   "cell_type": "code",
   "execution_count": 134,
   "id": "7f50a4ad",
   "metadata": {},
   "outputs": [],
   "source": [
    "model.compile(optimizer='adam',loss='sparse_categorical_crossentropy',metrics=['accuracy'])"
   ]
  },
  {
   "cell_type": "code",
   "execution_count": 135,
   "id": "64f4dcd3",
   "metadata": {},
   "outputs": [
    {
     "name": "stdout",
     "output_type": "stream",
     "text": [
      "Epoch 1/3\n",
      "1781/1781 [==============================] - 8098s 5s/step - loss: 1.0934 - accuracy: 0.6153 - val_loss: 0.8309 - val_accuracy: 0.6618\n",
      "Epoch 2/3\n",
      "1781/1781 [==============================] - 8748s 5s/step - loss: 0.7422 - accuracy: 0.7030 - val_loss: 0.7204 - val_accuracy: 0.7126\n",
      "Epoch 3/3\n",
      "1781/1781 [==============================] - 9133s 5s/step - loss: 0.6584 - accuracy: 0.7359 - val_loss: 0.7196 - val_accuracy: 0.7172\n"
     ]
    }
   ],
   "source": [
    "history = model.fit(train_padded,y1_train,epochs=3,batch_size=500,validation_data=[test_padded,y1_test])"
   ]
  },
  {
   "cell_type": "code",
   "execution_count": 136,
   "id": "207d7b1f",
   "metadata": {},
   "outputs": [
    {
     "data": {
      "text/plain": [
       "<matplotlib.legend.Legend at 0x23b170d4e80>"
      ]
     },
     "execution_count": 136,
     "metadata": {},
     "output_type": "execute_result"
    },
    {
     "data": {
      "image/png": "[encoded data removed]",
      "text/plain": [
       "<Figure size 432x288 with 1 Axes>"
      ]
     },
     "metadata": {
      "needs_background": "light"
     },
     "output_type": "display_data"
    }
   ],
   "source": [
    "plt.plot(history.history['accuracy'])\n",
    "plt.plot(history.history['val_accuracy'])\n",
    "plt.xlabel('epoch')\n",
    "plt.ylabel('accuracy')\n",
    "plt.title('accuracy plot')\n",
    "plt.legend(['training','testing'])"
   ]
  },
  {
   "cell_type": "code",
   "execution_count": 137,
   "id": "c545c776",
   "metadata": {},
   "outputs": [
    {
     "data": {
      "text/plain": [
       "<matplotlib.legend.Legend at 0x23b18422280>"
      ]
     },
     "execution_count": 137,
     "metadata": {},
     "output_type": "execute_result"
    },
    {
     "data": {
      "image/png": "[encoded data removed]",
      "text/plain": [
       "<Figure size 432x288 with 1 Axes>"
      ]
     },
     "metadata": {
      "needs_background": "light"
     },
     "output_type": "display_data"
    }
   ],
   "source": [
    "plt.plot(history.history['loss'])\n",
    "plt.plot(history.history['val_loss'])\n",
    "plt.xlabel('epoch')\n",
    "plt.ylabel('loss')\n",
    "plt.title('accuracy plot')\n",
    "plt.legend(['training','testing'])"
   ]
  },
  {
   "cell_type": "code",
   "execution_count": 138,
   "id": "9d185471",
   "metadata": {},
   "outputs": [],
   "source": [
    "model.save('LSTM.h5')"
   ]
  },
  {
   "cell_type": "code",
   "execution_count": 139,
   "id": "cef06e2b",
   "metadata": {},
   "outputs": [],
   "source": [
    "import pickle\n",
    "\n",
    "with open('tok.pickle', 'wb') as handle:\n",
    "    pickle.dump(tok, handle, protocol=pickle.HIGHEST_PROTOCOL)"
   ]
  },
  {
   "cell_type": "code",
   "execution_count": null,
   "id": "809b7860",
   "metadata": {},
   "outputs": [],
   "source": []
  }
 ],
 "metadata": {
  "kernelspec": {
   "display_name": "Python 3 (ipykernel)",
   "language": "python",
   "name": "python3"
  },
  "language_info": {
   "codemirror_mode": {
    "name": "ipython",
    "version": 3
   },
   "file_extension": ".py",
   "mimetype": "text/x-python",
   "name": "python",
   "nbconvert_exporter": "python",
   "pygments_lexer": "ipython3",
   "version": "3.9.7"
  }
 },
 "nbformat": 4,
 "nbformat_minor": 5
}
